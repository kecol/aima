{
 "cells": [
  {
   "cell_type": "code",
   "execution_count": 28,
   "metadata": {},
   "outputs": [
    {
     "name": "stdout",
     "output_type": "stream",
     "text": [
      "21\n",
      "197.3293\n"
     ]
    }
   ],
   "source": [
    "import random\n",
    "\n",
    "def slot(verbose=False):\n",
    "    choice = [random.choice(['BAR','BELL','LEMON','CHERRY']) for i in range(3)]\n",
    "    if verbose:\n",
    "        print(choice)\n",
    "    if choice[0] == choice[1] == choice[2]:\n",
    "        if choice[0] == 'BAR':\n",
    "            return 20\n",
    "        elif choice[0] == 'BELL':\n",
    "            return 15\n",
    "        elif choice[0] == 'LEMON':\n",
    "            return 5\n",
    "        else: # CHERRY!\n",
    "            return 3\n",
    "    elif choice[0] == 'CHERRY':\n",
    "        if choice[1] == 'CHERRY':\n",
    "            return 2\n",
    "        else:\n",
    "            return 1\n",
    "    else:\n",
    "        return 0\n",
    "            \n",
    "def test():\n",
    "    coins = 10\n",
    "    plays = 0\n",
    "    while coins > 0:\n",
    "        coins -= 1\n",
    "        coins += slot()\n",
    "        plays += 1\n",
    "\n",
    "    return plays\n",
    "    \n",
    "\n",
    "N = 10000\n",
    "history = [test() for i in range(N)]\n",
    "history = sorted(history)\n",
    "print(history[int(N/2)])\n",
    "print(sum(history)/N)\n",
    "    \n",
    "\n",
    "    \n"
   ]
  },
  {
   "cell_type": "code",
   "execution_count": null,
   "metadata": {
    "collapsed": true
   },
   "outputs": [],
   "source": []
  }
 ],
 "metadata": {
  "kernelspec": {
   "display_name": "Python 3",
   "language": "python",
   "name": "python3"
  },
  "language_info": {
   "codemirror_mode": {
    "name": "ipython",
    "version": 3
   },
   "file_extension": ".py",
   "mimetype": "text/x-python",
   "name": "python",
   "nbconvert_exporter": "python",
   "pygments_lexer": "ipython3",
   "version": "3.7.0"
  }
 },
 "nbformat": 4,
 "nbformat_minor": 2
}
