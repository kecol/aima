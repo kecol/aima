{
 "cells": [
  {
   "cell_type": "code",
   "execution_count": 3,
   "metadata": {},
   "outputs": [
    {
     "name": "stdout",
     "output_type": "stream",
     "text": [
      "n:1: 1.000001 >= 0.99 is True\n",
      "n:2: 0.997005999 >= 0.99 is True\n",
      "n:3: 0.996006000001 >= 0.99 is True\n",
      "n:4: 0.995009990009999 >= 0.99 is True\n",
      "n:5: 0.994014980015 >= 0.99 is True\n",
      "n:6: 0.993020965034979 >= 0.99 is True\n",
      "n:7: 0.992027944069944 >= 0.99 is True\n",
      "n:8: 0.991035916125874 >= 0.99 is True\n",
      "n:9: 0.9900448802097482 >= 0.99 is True\n",
      "n:10: 0.9890548353295384 >= 0.99 is False\n"
     ]
    }
   ],
   "source": [
    "epsilon = 0.001\n",
    "delta = 0.01\n",
    "n = 0\n",
    "parity = 1\n",
    "condition = True\n",
    "while condition:\n",
    "    n += 1    \n",
    "    probability_of_correctly = (1-epsilon)**(n+parity) + (n+parity)*epsilon**(n+parity-1)\n",
    "    condition = probability_of_correctly >= 1-delta\n",
    "    print('n:{}: {} >= {} is {}'.format(n, probability_of_correctly, 1-delta, condition))\n",
    "\n"
   ]
  },
  {
   "cell_type": "code",
   "execution_count": null,
   "metadata": {
    "collapsed": true
   },
   "outputs": [],
   "source": []
  }
 ],
 "metadata": {
  "kernelspec": {
   "display_name": "Python 3",
   "language": "python",
   "name": "python3"
  },
  "language_info": {
   "codemirror_mode": {
    "name": "ipython",
    "version": 3
   },
   "file_extension": ".py",
   "mimetype": "text/x-python",
   "name": "python",
   "nbconvert_exporter": "python",
   "pygments_lexer": "ipython3",
   "version": "3.6.1"
  }
 },
 "nbformat": 4,
 "nbformat_minor": 2
}
