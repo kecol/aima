{
 "cells": [
  {
   "cell_type": "markdown",
   "metadata": {},
   "source": [
    "\\begin{align*}\n",
    "P(Match(T1,T2)\\space|\\space Quality(T1), Quality(T2)) = prob\\_dist(Quality(T1), Quality(T2))\n",
    "\\end{align*}"
   ]
  },
  {
   "cell_type": "code",
   "execution_count": 1,
   "metadata": {},
   "outputs": [],
   "source": [
    "%matplotlib inline\n",
    "import itertools\n",
    "import random\n",
    "from functools import reduce\n",
    "import operator\n",
    "from numpy.random import choice\n",
    "import matplotlib.pyplot as plt"
   ]
  },
  {
   "cell_type": "code",
   "execution_count": 2,
   "metadata": {},
   "outputs": [],
   "source": [
    "def prob_dist(team_1_quality, team_2_quality):\n",
    "    assert team_1_quality in range(4), 'team_1 not in range'\n",
    "    assert team_2_quality in range(4), 'team_2 not in range'\n",
    "    dist = [1/3, 1/3, 1/3]\n",
    "    diff = team_1_quality - team_2_quality\n",
    "    if diff != 0:\n",
    "        dist[0] += abs(diff)*0.10\n",
    "        dist[1] -= abs(diff)*0.05\n",
    "        dist[2] -= abs(diff)*0.05\n",
    "    if diff < 0:\n",
    "        dist.reverse()\n",
    "    if sum(dist) < 0.999 or sum(dist) > 1.001:\n",
    "        raise('invalid distribution', dist)\n",
    "    return dist"
   ]
  },
  {
   "cell_type": "code",
   "execution_count": 3,
   "metadata": {},
   "outputs": [
    {
     "name": "stdout",
     "output_type": "stream",
     "text": [
      "[0.3333333333333333, 0.3333333333333333, 0.3333333333333333]\n",
      "[0.43333333333333335, 0.2833333333333333, 0.2833333333333333]\n",
      "[0.2833333333333333, 0.2833333333333333, 0.43333333333333335]\n"
     ]
    }
   ],
   "source": [
    "print(prob_dist(0,0))\n",
    "print(prob_dist(1,0))\n",
    "print(prob_dist(1,2))"
   ]
  },
  {
   "cell_type": "markdown",
   "metadata": {},
   "source": [
    "#### c. Suppose that in the first two matches A beats B and draws with C. Using an exact inference algorithm of your choice, compute the posterior distribution for the outcome of the third match.\n",
    "\n",
    "\\begin{equation*}\n",
    "P(BC | AB=Win, AC=Tie) =\\sum_{a=0}^3\\sum_{b=0}^3 P(AB=Win|A=a,B=b)\\times\\sum_{c=0}^3 P(AC=Tie|A=a,C=c)\\times P(BC|B=b,C=c)\n",
    "\\end{equation*}"
   ]
  },
  {
   "cell_type": "code",
   "execution_count": 4,
   "metadata": {},
   "outputs": [
    {
     "name": "stdout",
     "output_type": "stream",
     "text": [
      "[0.3422898703736289, 0.270760748430993, 0.38694938119537803]\n"
     ]
    }
   ],
   "source": [
    "# P(BC | AB=Win, AC=Tie)\n",
    "dist = [0,0,0]\n",
    "for a in range(4):\n",
    "    for b in range(4):\n",
    "        #  P(AB=Win | A=a, B=b)\n",
    "        f1 = prob_dist(a, b)\n",
    "        f1 = f1[0]\n",
    "        # print('P(AB=Win | A={}, B={})={}'.format(a, b, f1))\n",
    "        s = [0,0,0]\n",
    "        for c in range(4):\n",
    "            # P(AC=Tie | A=a, C=c)\n",
    "            f2 = prob_dist(a, c)\n",
    "            f2 = f2[1]\n",
    "            # print('P(AC=Tie | A={}, C={})={}'.format(a, c, f2))            \n",
    "            # P(BC | B=b, C=c)\n",
    "            f3 = prob_dist(b, c)\n",
    "            # print('P(BC | B={}, C={})={}'.format(b, c, f3))            \n",
    "            s[0]+= f2 * f3[0]\n",
    "            s[1]+= f2 * f3[1]\n",
    "            s[2]+= f2 * f3[2]\n",
    "\n",
    "        dist[0] += f1 * s[0]\n",
    "        dist[1] += f1 * s[1]\n",
    "        dist[2] += f1 * s[2]\n",
    "\n",
    "# normalize dist\n",
    "dist = [p/sum(dist) for p in dist]\n",
    "print(dist)\n",
    "# 0.342, 0.271, 0.387"
   ]
  },
  {
   "cell_type": "markdown",
   "metadata": {},
   "source": [
    "\\begin{equation*}\n",
    "P(LastMatch | RestTheRestOfMatches) =\\sum_{t1=0}^3\\sum_{t2=0}^3...\\sum_{tn=0}^3 P(M1|parents(M1)).P(M2|parents(M2))...P(Mn|parents(Mn))\n",
    "\\end{equation*}"
   ]
  },
  {
   "cell_type": "code",
   "execution_count": 5,
   "metadata": {},
   "outputs": [],
   "source": [
    "# probability distribution calculated using marginalization rule\n",
    "def prob_dist_given_matches(teams, matches):\n",
    "    print('Teams:', len(teams))\n",
    "    print('History:', matches)\n",
    "    last_match_1 = teams[-2]\n",
    "    last_match_2 = teams[-1]    \n",
    "    dist = [0, 0, 0]\n",
    "    for c in itertools.product(range(4), repeat=len(teams)):\n",
    "        factors = []\n",
    "        for match, result in matches.items():\n",
    "            team_1, team_2 = match\n",
    "            f = prob_dist(c[team_1], c[team_2])\n",
    "            factors.append(f[result])\n",
    "        f = reduce(operator.mul, factors, 1)\n",
    "        last_prob = prob_dist(c[last_match_1], c[last_match_2])\n",
    "        dist[0]+= f * last_prob[0]\n",
    "        dist[1]+= f * last_prob[1]\n",
    "        dist[2]+= f * last_prob[2]\n",
    "\n",
    "    dist = [p/sum(dist) for p in dist]\n",
    "    return dist\n",
    "\n",
    "def stats(team, matches):\n",
    "    result = {'Win':0, 'Tie':0, 'Lose':0}\n",
    "    for m, r in matches.items():\n",
    "        if team in m:\n",
    "            if r == 1:\n",
    "                result['Tie'] += 1                \n",
    "                continue\n",
    "            if team == m[0]:\n",
    "                if r == 0:\n",
    "                    result['Win'] += 1\n",
    "                else:\n",
    "                    result['Lose'] += 1\n",
    "            else:\n",
    "                if r == 2:\n",
    "                    result['Win'] += 1\n",
    "                else:\n",
    "                    result['Lose'] += 1\n",
    "    return result"
   ]
  },
  {
   "cell_type": "code",
   "execution_count": 6,
   "metadata": {},
   "outputs": [],
   "source": [
    "# Pseudo GIBBs for this problem\n",
    "def gibbs_ask(teams, matches, K=1, history=False):\n",
    "    N = [0,0,0]\n",
    "    last_match = (teams[-2], teams[-1])\n",
    "    x = matches.copy()\n",
    "    hist = []\n",
    "    \n",
    "    for t in teams:\n",
    "        # set random quality for team variables\n",
    "        x[t] = random.randint(0,3)\n",
    "    # set random result for last match\n",
    "    x[last_match] = random.randint(0,2)\n",
    "    all_matches = matches.copy()\n",
    "    all_matches[last_match] = x[last_match]\n",
    "    \n",
    "    # save some useful data for stats\n",
    "    counter = {}\n",
    "    for t in teams:\n",
    "        counter[t] = [0,0,0,0]\n",
    "    for m in all_matches:\n",
    "        counter[m] = [0,0,0]\n",
    "    \n",
    "    for k in range(K):\n",
    "        # Z: none evidence variables (all teams plus last match)\n",
    "        # We sample for all Zi in Z. First the teams, then the last match\n",
    "        for t in teams:\n",
    "            #print('Sample from P(Quality(T{}) | mb(T{}))'.format(t, t))\n",
    "            dist = [1,1,1,1]\n",
    "            for i in range(4):\n",
    "                for m in all_matches:\n",
    "                    team1, team2 = m\n",
    "                    r = x[m]\n",
    "                    if t in m:\n",
    "                        if t == team1:\n",
    "                            d = prob_dist(i, x[team2])\n",
    "                        else:\n",
    "                            # t is team2\n",
    "                            d = prob_dist(x[team1], i)\n",
    "                    else:\n",
    "                        d = prob_dist(x[team1], x[team2])\n",
    "                    dist[i] *= d[r]\n",
    "            dist = [p/sum(dist) for p in dist]\n",
    "            # sample from distribution dist = P(Q(t) | mb(t))\n",
    "            selection = choice(range(4), 1, p=dist.copy())\n",
    "            x[t] = selection[0]\n",
    "            \n",
    "        # Now we take the sample for last match from P(LM | mb(ML))\n",
    "        dist = prob_dist(x[last_match[0]], x[last_match[1]])            \n",
    "        selection = choice(range(3), 1, p=dist.copy())\n",
    "        x[last_match] = selection[0]\n",
    "        \n",
    "        # save useful data\n",
    "        for idx in x:\n",
    "            counter[idx][x[idx]] += 1\n",
    "            \n",
    "        if history:\n",
    "            hist.append(counter[last_match].copy())\n",
    "            \n",
    "                \n",
    "    #for k in counter:\n",
    "    #    n = counter[k]\n",
    "    #    n = [p/sum(n) for p in n]\n",
    "    #    print('Var {} Distribution: {}'.format(k, n))\n",
    "    \n",
    "    # counter[last_match] is N in the book\n",
    "    N = counter[last_match]\n",
    "    N = [p/sum(N) for p in N]\n",
    "    return N, hist\n"
   ]
  },
  {
   "cell_type": "code",
   "execution_count": 7,
   "metadata": {},
   "outputs": [],
   "source": [
    "def test(teams, matches, K=100):\n",
    "    print('LAST MATCH {} vs {}'.format(teams[-2], teams[-1]))\n",
    "    print('Stats Team {}: {}'.format(teams[-2], stats(teams[-2], matches)))\n",
    "    print('Stats Team {}: {}'.format(teams[-1], stats(teams[-1], matches)))\n",
    "    r1 = prob_dist_given_matches(teams, matches)\n",
    "    print('Last Match Distribution (exact inferece)', r1)\n",
    "    r2,_ = gibbs_ask(teams, matches, K)\n",
    "    print('Last Match Distribution (GIBBS inferece)', r2)\n",
    "    se = [(r1[i]-r2[i])**2 for i in range(len(r1))]\n",
    "    print('Squares Errors:', se)\n",
    "    print('Sum of Squares Errors:', sum(se))    "
   ]
  },
  {
   "cell_type": "code",
   "execution_count": 8,
   "metadata": {},
   "outputs": [
    {
     "name": "stdout",
     "output_type": "stream",
     "text": [
      "LAST MATCH 1 vs 2\n",
      "Stats Team 1: {'Win': 0, 'Tie': 0, 'Lose': 1}\n",
      "Stats Team 2: {'Win': 0, 'Tie': 1, 'Lose': 0}\n",
      "Teams: 3\n",
      "History: {(0, 1): 0, (0, 2): 1}\n",
      "Last Match Distribution (exact inferece) [0.342289870373629, 0.270760748430993, 0.38694938119537803]\n",
      "Last Match Distribution (GIBBS inferece) [0.3535, 0.262, 0.3845]\n",
      "Squares Errors: [0.0001256670062400401, 7.675071307114638e-05, 5.999468240271457e-06]\n",
      "Sum of Squares Errors: 0.00020841718755145795\n"
     ]
    }
   ],
   "source": [
    "teams = range(3)\n",
    "matches = {}\n",
    "matches[(0,1)] = 0\n",
    "matches[(0,2)] = 1\n",
    "test(teams, matches, K=2000)"
   ]
  },
  {
   "cell_type": "code",
   "execution_count": 9,
   "metadata": {},
   "outputs": [
    {
     "name": "stdout",
     "output_type": "stream",
     "text": [
      "LAST MATCH 1 vs 2\n",
      "Stats Team 1: {'Win': 0, 'Tie': 0, 'Lose': 1}\n",
      "Stats Team 2: {'Win': 0, 'Tie': 0, 'Lose': 1}\n",
      "Teams: 3\n",
      "History: {(0, 1): 0, (0, 2): 0}\n",
      "Last Match Distribution (exact inferece) [0.36364275232012566, 0.2727144953597486, 0.36364275232012566]\n",
      "Last Match Distribution (GIBBS inferece) [0.373, 0.274, 0.353]\n",
      "Squares Errors: [8.755808414251365e-05, 1.6525221801078822e-06, 0.00011326817694754058]\n",
      "Sum of Squares Errors: 0.00020247878327016213\n"
     ]
    }
   ],
   "source": [
    "teams = range(3)\n",
    "matches = {}\n",
    "for p in itertools.combinations(teams, 2):\n",
    "    matches[p] = random.randint(0, 2)\n",
    "    \n",
    "del matches[(teams[-2], teams[-1])]\n",
    "test(teams, matches, K=1000)"
   ]
  },
  {
   "cell_type": "code",
   "execution_count": 10,
   "metadata": {},
   "outputs": [
    {
     "name": "stdout",
     "output_type": "stream",
     "text": [
      "LAST MATCH 1 vs 2\n",
      "Stats Team 1: {'Win': 0, 'Tie': 0, 'Lose': 1}\n",
      "Stats Team 2: {'Win': 0, 'Tie': 1, 'Lose': 0}\n",
      "Teams: 3\n",
      "History: {(0, 1): 0, (0, 2): 1}\n",
      "Last Match Distribution (exact inferece) [0.342289870373629, 0.270760748430993, 0.38694938119537803]\n",
      "Last Match Distribution (GIBBS inferece) [0.2, 0.4, 0.4]\n",
      "Squares Errors: [0.020246407210944145, 0.016702784146117082, 0.0001703186511835532]\n",
      "Sum of Squares Errors: 0.03711951000824478\n",
      "LAST MATCH 1 vs 2\n",
      "Stats Team 1: {'Win': 0, 'Tie': 0, 'Lose': 1}\n",
      "Stats Team 2: {'Win': 0, 'Tie': 1, 'Lose': 0}\n",
      "Teams: 3\n",
      "History: {(0, 1): 0, (0, 2): 1}\n",
      "Last Match Distribution (exact inferece) [0.342289870373629, 0.270760748430993, 0.38694938119537803]\n",
      "Last Match Distribution (GIBBS inferece) [0.35, 0.28, 0.37]\n",
      "Squares Errors: [5.944609885544328e-05, 8.536376955539853e-05, 0.00028728152290623444]\n",
      "Sum of Squares Errors: 0.00043209139131707624\n",
      "LAST MATCH 1 vs 2\n",
      "Stats Team 1: {'Win': 0, 'Tie': 0, 'Lose': 1}\n",
      "Stats Team 2: {'Win': 0, 'Tie': 1, 'Lose': 0}\n",
      "Teams: 3\n",
      "History: {(0, 1): 0, (0, 2): 1}\n",
      "Last Match Distribution (exact inferece) [0.342289870373629, 0.270760748430993, 0.38694938119537803]\n",
      "Last Match Distribution (GIBBS inferece) [0.359, 0.284, 0.357]\n",
      "Squares Errors: [0.00027922843213012093, 0.00017527778210745326, 0.000896965433986064]\n",
      "Sum of Squares Errors: 0.0013514716482236383\n",
      "LAST MATCH 1 vs 2\n",
      "Stats Team 1: {'Win': 0, 'Tie': 0, 'Lose': 1}\n",
      "Stats Team 2: {'Win': 0, 'Tie': 1, 'Lose': 0}\n",
      "Teams: 3\n",
      "History: {(0, 1): 0, (0, 2): 1}\n",
      "Last Match Distribution (exact inferece) [0.342289870373629, 0.270760748430993, 0.38694938119537803]\n",
      "Last Match Distribution (GIBBS inferece) [0.3338, 0.2742, 0.392]\n",
      "Squares Errors: [7.207789896102387e-05, 1.1828451354917006e-05, 2.5508750309601227e-05]\n",
      "Sum of Squares Errors: 0.0001094151006255421\n"
     ]
    }
   ],
   "source": [
    "teams = range(3)\n",
    "matches = {}\n",
    "matches[(0,1)] = 0\n",
    "matches[(0,2)] = 1\n",
    "test(teams, matches, K=10)\n",
    "test(teams, matches, K=100)\n",
    "test(teams, matches, K=1000)\n",
    "test(teams, matches, K=5000)"
   ]
  },
  {
   "cell_type": "code",
   "execution_count": 11,
   "metadata": {},
   "outputs": [
    {
     "name": "stdout",
     "output_type": "stream",
     "text": [
      "LAST MATCH 2 vs 3\n",
      "Stats Team 2: {'Win': 2, 'Tie': 0, 'Lose': 0}\n",
      "Stats Team 3: {'Win': 0, 'Tie': 0, 'Lose': 2}\n",
      "Teams: 4\n",
      "History: {(0, 1): 0, (0, 2): 2, (0, 3): 0, (1, 2): 2, (1, 3): 0}\n",
      "Last Match Distribution (exact inferece) [0.4434231103215044, 0.2608510943306183, 0.2957257953478773]\n",
      "Last Match Distribution (GIBBS inferece) [0.48, 0.2, 0.32]\n",
      "Squares Errors: [0.0013378688585528376, 0.0037028556812338073, 0.0005892370114931358]\n",
      "Sum of Squares Errors: 0.005629961551279781\n"
     ]
    },
    {
     "data": {
      "text/plain": [
       "([0.458, 0.257, 0.285], [])"
      ]
     },
     "execution_count": 11,
     "metadata": {},
     "output_type": "execute_result"
    }
   ],
   "source": [
    "teams = range(4)\n",
    "matches = {}\n",
    "matches[(0,1)] = 0\n",
    "matches[(0,2)] = 2\n",
    "matches[(0,3)] = 0\n",
    "matches[(1,2)] = 2\n",
    "matches[(1,3)] = 0\n",
    "test(teams, matches)\n",
    "gibbs_ask(teams, matches, K=1000)\n"
   ]
  },
  {
   "cell_type": "code",
   "execution_count": 12,
   "metadata": {},
   "outputs": [
    {
     "name": "stdout",
     "output_type": "stream",
     "text": [
      "LAST MATCH 6 vs 7\n",
      "Stats Team 6: {'Win': 2, 'Tie': 2, 'Lose': 2}\n",
      "Stats Team 7: {'Win': 1, 'Tie': 4, 'Lose': 1}\n",
      "Teams: 8\n",
      "History: {(0, 1): 1, (0, 2): 1, (0, 3): 1, (0, 4): 2, (0, 5): 0, (0, 6): 2, (0, 7): 1, (1, 2): 2, (1, 3): 1, (1, 4): 2, (1, 5): 1, (1, 6): 1, (1, 7): 1, (2, 3): 0, (2, 4): 2, (2, 5): 1, (2, 6): 0, (2, 7): 2, (3, 4): 0, (3, 5): 2, (3, 6): 2, (3, 7): 1, (4, 5): 1, (4, 6): 0, (4, 7): 1, (5, 6): 1, (5, 7): 0}\n",
      "Last Match Distribution (exact inferece) [0.36677896420504924, 0.27593580607870083, 0.3572852297162499]\n",
      "Last Match Distribution (GIBBS inferece) [0.3725, 0.272, 0.3555]\n",
      "Squares Errors: [3.273025056710784e-05, 1.5490569489138246e-05, 3.18704513978167e-06]\n",
      "Sum of Squares Errors: 5.140786519602776e-05\n"
     ]
    }
   ],
   "source": [
    "teams = range(8)\n",
    "matches = {}\n",
    "for p in itertools.combinations(teams, 2):\n",
    "    matches[p] = random.randint(0, 2)\n",
    "    \n",
    "del matches[(teams[-2], teams[-1])]\n",
    "test(teams, matches, K=2000)"
   ]
  },
  {
   "cell_type": "code",
   "execution_count": 13,
   "metadata": {},
   "outputs": [
    {
     "name": "stdout",
     "output_type": "stream",
     "text": [
      "Teams: 8\n",
      "History: {(0, 1): 1, (0, 2): 1, (0, 3): 1, (0, 4): 2, (0, 5): 0, (0, 6): 2, (0, 7): 1, (1, 2): 2, (1, 3): 1, (1, 4): 2, (1, 5): 1, (1, 6): 1, (1, 7): 1, (2, 3): 0, (2, 4): 2, (2, 5): 1, (2, 6): 0, (2, 7): 2, (3, 4): 0, (3, 5): 2, (3, 6): 2, (3, 7): 1, (4, 5): 1, (4, 6): 0, (4, 7): 1, (5, 6): 1, (5, 7): 0}\n"
     ]
    }
   ],
   "source": [
    "r1 = prob_dist_given_matches(teams, matches)\n",
    "r2, hist = gibbs_ask(teams, matches, K=2000, history=True)"
   ]
  },
  {
   "cell_type": "code",
   "execution_count": 14,
   "metadata": {},
   "outputs": [
    {
     "data": {
      "text/plain": [
       "[<matplotlib.lines.Line2D at 0x181be9a9908>]"
      ]
     },
     "execution_count": 14,
     "metadata": {},
     "output_type": "execute_result"
    },
    {
     "data": {
      "image/png": "[encoded data removed]",
      "text/plain": [
       "<Figure size 432x288 with 1 Axes>"
      ]
     },
     "metadata": {
      "needs_background": "light"
     },
     "output_type": "display_data"
    }
   ],
   "source": [
    "se = []\n",
    "for r in hist:\n",
    "    n = [p/sum(r) for p in r]\n",
    "    se.append(sum([(r1[i]-n[i])**2 for i in range(len(r1))]))\n",
    "\n",
    "plt.ylabel('Sum Square Error')\n",
    "plt.plot([i for i in range(len(se))], se)"
   ]
  },
  {
   "cell_type": "code",
   "execution_count": 15,
   "metadata": {},
   "outputs": [
    {
     "data": {
      "text/plain": [
       "[<matplotlib.lines.Line2D at 0x181bed422b0>]"
      ]
     },
     "execution_count": 15,
     "metadata": {},
     "output_type": "execute_result"
    },
    {
     "data": {
      "image/png": "[encoded data removed]",
      "text/plain": [
       "<Figure size 432x288 with 1 Axes>"
      ]
     },
     "metadata": {
      "needs_background": "light"
     },
     "output_type": "display_data"
    }
   ],
   "source": [
    "plt.ylabel('Sum Square Error')\n",
    "plt.plot(se[0:50])"
   ]
  },
  {
   "cell_type": "code",
   "execution_count": 16,
   "metadata": {},
   "outputs": [
    {
     "name": "stdout",
     "output_type": "stream",
     "text": [
      "Teams: 10\n",
      "History: {(0, 1): 2, (0, 2): 0, (0, 3): 2, (0, 4): 2, (0, 5): 2, (0, 6): 2, (0, 7): 0, (0, 8): 2, (0, 9): 0, (1, 2): 0, (1, 3): 0, (1, 4): 0, (1, 5): 0, (1, 6): 2, (1, 7): 2, (1, 8): 0, (1, 9): 0, (2, 3): 1, (2, 4): 2, (2, 5): 2, (2, 6): 0, (2, 7): 0, (2, 8): 2, (2, 9): 2, (3, 4): 1, (3, 5): 1, (3, 6): 2, (3, 7): 2, (3, 8): 2, (3, 9): 2, (4, 5): 1, (4, 6): 2, (4, 7): 0, (4, 8): 1, (4, 9): 0, (5, 6): 0, (5, 7): 1, (5, 8): 2, (5, 9): 1, (6, 7): 1, (6, 8): 0, (6, 9): 2, (7, 8): 0, (7, 9): 1}\n"
     ]
    },
    {
     "data": {
      "text/plain": [
       "[<matplotlib.lines.Line2D at 0x181bed93da0>]"
      ]
     },
     "execution_count": 16,
     "metadata": {},
     "output_type": "execute_result"
    },
    {
     "data": {
      "image/png": "[encoded data removed]",
      "text/plain": [
       "<Figure size 432x288 with 1 Axes>"
      ]
     },
     "metadata": {
      "needs_background": "light"
     },
     "output_type": "display_data"
    }
   ],
   "source": [
    "teams = range(10)\n",
    "matches = {}\n",
    "for p in itertools.combinations(teams, 2):\n",
    "    matches[p] = random.randint(0, 2)\n",
    "    \n",
    "del matches[(teams[-2], teams[-1])]\n",
    "r1 = prob_dist_given_matches(teams, matches)\n",
    "r2, hist = gibbs_ask(teams, matches, K=200, history=True)\n",
    "se = []\n",
    "for r in hist:\n",
    "    n = [p/sum(r) for p in r]\n",
    "    se.append(sum([(r1[i]-n[i])**2 for i in range(len(r1))]))\n",
    "\n",
    "plt.ylabel('Sum Square Error')\n",
    "plt.plot([i for i in range(len(se))], se)"
   ]
  },
  {
   "cell_type": "code",
   "execution_count": null,
   "metadata": {},
   "outputs": [],
   "source": []
  }
 ],
 "metadata": {
  "kernelspec": {
   "display_name": "Python 3",
   "language": "python",
   "name": "python3"
  },
  "language_info": {
   "codemirror_mode": {
    "name": "ipython",
    "version": 3
   },
   "file_extension": ".py",
   "mimetype": "text/x-python",
   "name": "python",
   "nbconvert_exporter": "python",
   "pygments_lexer": "ipython3",
   "version": "3.7.0"
  }
 },
 "nbformat": 4,
 "nbformat_minor": 2
}
